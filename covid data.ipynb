{
  "metadata": {
    "kernelspec": {
      "name": "python",
      "display_name": "Python (Pyodide)",
      "language": "python"
    },
    "language_info": {
      "codemirror_mode": {
        "name": "python",
        "version": 3
      },
      "file_extension": ".py",
      "mimetype": "text/x-python",
      "name": "python",
      "nbconvert_exporter": "python",
      "pygments_lexer": "ipython3",
      "version": "3.8"
    }
  },
  "nbformat_minor": 5,
  "nbformat": 4,
  "cells": [
    {
      "id": "1a028275-9271-488b-b4a3-41cd0a16cf77",
      "cell_type": "code",
      "source": "import numpy as np\nimport pandas as pd \nimport matplotlib.pyplot as plt\nimport seaborn as sns",
      "metadata": {
        "trusted": true
      },
      "outputs": [],
      "execution_count": 3
    },
    {
      "id": "1c0bfda3-996b-489f-8d5b-2d5589c8864e",
      "cell_type": "code",
      "source": "import piplite\nawait piplite.install('seaborn')",
      "metadata": {
        "trusted": true
      },
      "outputs": [],
      "execution_count": 2
    },
    {
      "id": "6f8d12c6-06cc-4da6-b24b-dcf4e28c8f6b",
      "cell_type": "code",
      "source": "df=pd.read_csv(\"covid.csv\")\nprint(df.head())#Display first few rows and columns\n               ",
      "metadata": {
        "trusted": true
      },
      "outputs": [
        {
          "name": "stdout",
          "output_type": "stream",
          "text": "   FIPS Admin2 Province_State Country_Region          Last_Update       Lat  \\\n0   NaN    NaN            NaN    Afghanistan  2021-01-02 05:22:33  33.93911   \n1   NaN    NaN            NaN        Albania  2021-01-02 05:22:33  41.15330   \n2   NaN    NaN            NaN        Algeria  2021-01-02 05:22:33  28.03390   \n3   NaN    NaN            NaN        Andorra  2021-01-02 05:22:33  42.50630   \n4   NaN    NaN            NaN         Angola  2021-01-02 05:22:33 -11.20270   \n\n       Long_  Confirmed  Deaths  Recovered  Active Combined_Key  \\\n0  67.709953      52513    2201      41727    8585  Afghanistan   \n1  20.168300      58316    1181      33634   23501      Albania   \n2   1.659600      99897    2762      67395   29740      Algeria   \n3   1.521800       8117      84       7463     570      Andorra   \n4  17.873900      17568     405      11146    6017       Angola   \n\n   Incident_Rate  Case_Fatality_Ratio  \n0     134.896578             4.191343  \n1    2026.409062             2.025173  \n2     227.809861             2.764848  \n3   10505.403482             1.034865  \n4      53.452981             2.305328  \n"
        }
      ],
      "execution_count": 5
    },
    {
      "id": "ce167688-105b-4ee0-aadd-b4a4059bd09d",
      "cell_type": "code",
      "source": "print(df.info())",
      "metadata": {
        "trusted": true
      },
      "outputs": [
        {
          "name": "stdout",
          "output_type": "stream",
          "text": "<class 'pandas.core.frame.DataFrame'>\nRangeIndex: 4011 entries, 0 to 4010\nData columns (total 14 columns):\n #   Column               Non-Null Count  Dtype  \n---  ------               --------------  -----  \n 0   FIPS                 3265 non-null   float64\n 1   Admin2               3270 non-null   object \n 2   Province_State       3833 non-null   object \n 3   Country_Region       4011 non-null   object \n 4   Last_Update          4011 non-null   object \n 5   Lat                  3922 non-null   float64\n 6   Long_                3922 non-null   float64\n 7   Confirmed            4011 non-null   int64  \n 8   Deaths               4011 non-null   int64  \n 9   Recovered            4011 non-null   int64  \n 10  Active               4011 non-null   int64  \n 11  Combined_Key         4011 non-null   object \n 12  Incident_Rate        3922 non-null   float64\n 13  Case_Fatality_Ratio  3963 non-null   float64\ndtypes: float64(5), int64(4), object(5)\nmemory usage: 360.4+ KB\nNone\n"
        }
      ],
      "execution_count": 6
    },
    {
      "id": "5379cb28-ebad-4dae-965d-f11da7d9bcbe",
      "cell_type": "code",
      "source": "print(df.describe())",
      "metadata": {
        "trusted": true
      },
      "outputs": [
        {
          "name": "stdout",
          "output_type": "stream",
          "text": "               FIPS          Lat        Long_     Confirmed        Deaths  \\\ncount   3265.000000  3922.000000  3922.000000  4.011000e+03   4011.000000   \nmean   32386.688208    35.768908   -71.113714  2.102613e+04    476.518823   \nstd    18017.294540    13.391261    55.220345  1.055172e+05   2833.090464   \nmin       66.000000   -71.949900  -175.198200  0.000000e+00      0.000000   \n25%    19049.000000    33.202974   -96.580090  7.010000e+02      9.000000   \n50%    30067.000000    37.910342   -86.708116  1.968000e+03     31.000000   \n75%    47039.000000    42.181730   -77.358102  7.693500e+03    112.000000   \nmax    99999.000000    71.706900   178.065000  2.636045e+06  81593.000000   \n\n          Recovered        Active  Incident_Rate  Case_Fatality_Ratio  \ncount  4.011000e+03  4.011000e+03    3922.000000          3963.000000  \nmean   1.180731e+04  9.259591e+03    5738.940929             2.228699  \nstd    8.193885e+04  5.719777e+04    3227.374130            17.174874  \nmin    0.000000e+00  0.000000e+00       0.000000             0.000000  \n25%    0.000000e+00  5.780000e+02    3536.967442             0.969239  \n50%    0.000000e+00  1.657000e+03    5840.344304             1.551567  \n75%    0.000000e+00  4.915500e+03    7752.568815             2.341350  \nmax    2.114760e+06  2.400750e+06   27388.219766          1026.206897  \n"
        }
      ],
      "execution_count": 7
    },
    {
      "id": "d1b8a2bf-00e4-46f3-a2a4-24b7124bee76",
      "cell_type": "code",
      "source": "num_columns = df.shape[1]  # Extracts the second value (column count)\nprint(num_columns)  # Prints total number of columns\n",
      "metadata": {
        "trusted": true
      },
      "outputs": [
        {
          "name": "stdout",
          "output_type": "stream",
          "text": "14\n"
        }
      ],
      "execution_count": 8
    },
    {
      "id": "d95620e8-bee0-469b-ad7f-5e0ea89d073b",
      "cell_type": "code",
      "source": "print(len(df))  # Returns the number of rows\n",
      "metadata": {
        "trusted": true
      },
      "outputs": [
        {
          "name": "stdout",
          "output_type": "stream",
          "text": "4011\n"
        }
      ],
      "execution_count": 9
    },
    {
      "id": "3b9a1bfe-d9a5-4c72-8b5f-860dce18ae32",
      "cell_type": "code",
      "source": "import pandas as pd\n\n# Load the dataset\ndf = pd.read_csv(\"covid.csv\")\n\n# Filter for specific countries\ncountries_of_interest = [\"Canada\", \"Colombia\", \"India\"]\nfiltered_df = df[df[\"Country_Region\"].isin(countries_of_interest)]\n\n# Display the filtered data\nprint(filtered_df)\n",
      "metadata": {
        "trusted": true
      },
      "outputs": [
        {
          "name": "stdout",
          "output_type": "stream",
          "text": "     FIPS Admin2    Province_State Country_Region          Last_Update  \\\n76    NaN    NaN           Alberta         Canada  2021-01-02 05:22:33   \n77    NaN    NaN  British Columbia         Canada  2021-01-02 05:22:33   \n78    NaN    NaN  Diamond Princess         Canada  2020-12-21 13:27:30   \n79    NaN    NaN    Grand Princess         Canada  2020-12-21 13:27:30   \n80    NaN    NaN          Manitoba         Canada  2021-01-02 05:22:33   \n..    ...    ...               ...            ...                  ...   \n279   NaN    NaN           Tripura          India  2021-01-02 05:22:33   \n280   NaN    NaN           Unknown          India  2021-01-02 05:22:33   \n281   NaN    NaN     Uttar Pradesh          India  2021-01-02 05:22:33   \n282   NaN    NaN       Uttarakhand          India  2021-01-02 05:22:33   \n283   NaN    NaN       West Bengal          India  2021-01-02 05:22:33   \n\n           Lat       Long_  Confirmed  Deaths  Recovered  Active  \\\n76   53.933300 -116.576500     100428    1046      84827   14555   \n77   53.726700 -127.647600      51990     901      42127    8962   \n78         NaN         NaN          0       1          0       0   \n79         NaN         NaN         13       0         13       0   \n80   53.760900  -98.813900      24700     667      19528    4505   \n..         ...         ...        ...     ...        ...     ...   \n279  23.746783   91.743565      33276     385      32779     112   \n280        NaN         NaN          0       0      46107       0   \n281  26.925425   80.560982     586751    8379     563278   15094   \n282  30.156447   79.197608      91281    1515      84692    5074   \n283  23.814082   87.979803     553216    9738     530366   13112   \n\n                 Combined_Key  Incident_Rate  Case_Fatality_Ratio  \n76            Alberta, Canada    2260.426179             1.041542  \n77   British Columbia, Canada     996.969206             1.733026  \n78   Diamond Princess, Canada            NaN                  NaN  \n79     Grand Princess, Canada            NaN             0.000000  \n80           Manitoba, Canada    1784.985167             2.700405  \n..                        ...            ...                  ...  \n279            Tripura, India     798.025034             1.156990  \n280            Unknown, India            NaN                  NaN  \n281      Uttar Pradesh, India     246.655574             1.428033  \n282        Uttarakhand, India     811.324790             1.659710  \n283        West Bengal, India     555.385876             1.760253  \n\n[87 rows x 14 columns]\n"
        }
      ],
      "execution_count": 11
    },
    {
      "id": "d050993a-c214-4cda-b902-48f6202f1139",
      "cell_type": "code",
      "source": "print(df.isnull().sum())  # Shows missing values per column\n",
      "metadata": {
        "trusted": true
      },
      "outputs": [
        {
          "name": "stdout",
          "output_type": "stream",
          "text": "FIPS                   746\nAdmin2                 741\nProvince_State         178\nCountry_Region           0\nLast_Update              0\nLat                     89\nLong_                   89\nConfirmed                0\nDeaths                   0\nRecovered                0\nActive                   0\nCombined_Key             0\nIncident_Rate           89\nCase_Fatality_Ratio     48\ndtype: int64\n"
        }
      ],
      "execution_count": 12
    },
    {
      "id": "3dcee66e-4fc9-41c8-9570-cbfd88a48ca8",
      "cell_type": "code",
      "source": "import piplite\nawait piplite.install(\"seaborn\")\n",
      "metadata": {
        "trusted": true
      },
      "outputs": [],
      "execution_count": 8
    },
    {
      "id": "347bb20f-4459-40f1-834e-3ef61f8d03f4",
      "cell_type": "code",
      "source": "# Select relevant columns\nimport pandas as pd\ndf = pd.read_csv(\"covid.csv\")\ndf = df[['Country_Region', 'Last_Update', 'Confirmed', 'Deaths', 'Recovered']]",
      "metadata": {
        "trusted": true
      },
      "outputs": [],
      "execution_count": 14
    },
    {
      "id": "eadfcdcc-e42f-4b2f-9960-7a4f9b6269db",
      "cell_type": "code",
      "source": "print(df)\n",
      "metadata": {
        "trusted": true
      },
      "outputs": [
        {
          "name": "stdout",
          "output_type": "stream",
          "text": "      Country_Region          Last_Update  Confirmed  Deaths  Recovered\n0        Afghanistan  2021-01-02 05:22:33      52513    2201      41727\n1            Albania  2021-01-02 05:22:33      58316    1181      33634\n2            Algeria  2021-01-02 05:22:33      99897    2762      67395\n3            Andorra  2021-01-02 05:22:33       8117      84       7463\n4             Angola  2021-01-02 05:22:33      17568     405      11146\n...              ...                  ...        ...     ...        ...\n4006         Ukraine  2021-01-02 05:22:33          0       0          0\n4007           Nauru  2021-01-02 05:22:33          0       0          0\n4008     New Zealand  2021-01-02 05:22:33          0       0          0\n4009          Tuvalu  2021-01-02 05:22:33          0       0          0\n4010  United Kingdom  2021-01-02 05:22:33          0       0          0\n\n[4011 rows x 5 columns]\n"
        }
      ],
      "execution_count": 15
    },
    {
      "id": "abdf1855-f31f-417b-9ed0-6cbb910ecdbb",
      "cell_type": "code",
      "source": "# Group by country and sum confirmed cases\ndf_grouped = df_filtered.groupby(\"Country_Region\")[\"Confirmed\"].sum()",
      "metadata": {
        "trusted": true
      },
      "outputs": [],
      "execution_count": 17
    },
    {
      "id": "4715730f-af43-4f73-8229-e61a0b10e609",
      "cell_type": "code",
      "source": "# Plot a bar graph\nplt.figure(figsize=(8, 5))\ndf_grouped.plot(kind=\"bar\", color=[\"blue\", \"green\", \"red\"])\n\nplt.xlabel(\"Country\")\nplt.ylabel(\"Total Confirmed Cases\")\nplt.title(\"COVID-19 Confirmed Cases by Country\")\nplt.xticks(rotation=0)\nplt.show()",
      "metadata": {
        "trusted": true
      },
      "outputs": [
        {
          "output_type": "display_data",
          "data": {
            "text/plain": "<Figure size 800x500 with 1 Axes>",
            "image/png": "[encoded data removed]"
          },
          "metadata": {}
        }
      ],
      "execution_count": 19
    },
    {
      "id": "881f03b2-29d9-4957-8c7e-e9c10d7475c7",
      "cell_type": "code",
      "source": "%pip install plotly\n",
      "metadata": {
        "trusted": true
      },
      "outputs": [],
      "execution_count": 21
    },
    {
      "id": "95f81880-3e35-47f3-a4d0-12edda0a1f7f",
      "cell_type": "code",
      "source": "import plotly\nprint(plotly.__version__)  # Correct way to check Plotly's version\n",
      "metadata": {
        "trusted": true
      },
      "outputs": [
        {
          "name": "stdout",
          "output_type": "stream",
          "text": "6.1.0\n"
        }
      ],
      "execution_count": 24
    },
    {
      "id": "83270f92-3c4d-4dff-b478-fcbac27ff5f9",
      "cell_type": "code",
      "source": "%pip install --upgrade nbformat\n",
      "metadata": {
        "trusted": true
      },
      "outputs": [],
      "execution_count": 30
    },
    {
      "id": "6b694c80-129d-4594-9a57-af6901ed5fac",
      "cell_type": "code",
      "source": "import micropip\nawait micropip.install(\"nbformat\")\nimport nbformat\nprint(nbformat.__version__)\n",
      "metadata": {
        "trusted": true
      },
      "outputs": [
        {
          "name": "stdout",
          "output_type": "stream",
          "text": "5.10.4\n"
        }
      ],
      "execution_count": 32
    },
    {
      "id": "b0f74e5c-09e6-4ae1-8fb2-19d80540a8c5",
      "cell_type": "code",
      "source": "import pandas as pd\nimport plotly.express as px\n\n# Load the dataset\ndf = pd.read_csv(\"covid.csv\")\n\n# Map country names to ISO 3-letter codes\ncountry_code_map = {\n    \"Canada\": \"CAN\",\n    \"Colombia\": \"COL\",\n    \"India\": \"IND\"\n}\n\n# Apply mapping\ndf[\"Country_Code\"] = df[\"Country_Region\"].map(country_code_map)\n\n# Drop rows with missing codes or values\ndf = df.dropna(subset=[\"Country_Code\", \"Confirmed\"])\n\n# Create the choropleth map\nfig = px.choropleth(\n    df,\n    locations=\"Country_Code\",\n    locationmode=\"ISO-3\",\n    color=\"Confirmed\",\n    hover_name=\"Country_Region\",\n    color_continuous_scale=\"Reds\",\n    title=\"COVID-19 Confirmed Cases by Country\"\n)\n\n# Save the plot as an HTML file\nfig.write_html(\"covid_map.html\")\n",
      "metadata": {
        "trusted": true
      },
      "outputs": [],
      "execution_count": 37
    },
    {
      "id": "b92d61ba-63d8-4788-8ba6-6fdc69735f74",
      "cell_type": "code",
      "source": "",
      "metadata": {
        "trusted": true
      },
      "outputs": [],
      "execution_count": null
    }
  ]
}